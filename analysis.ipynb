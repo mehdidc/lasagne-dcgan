{
 "cells": [
  {
   "cell_type": "code",
   "execution_count": 260,
   "metadata": {
    "collapsed": false
   },
   "outputs": [],
   "source": [
    "from lightjob.cli import load_db\n",
    "from lightjob.db import SUCCESS, RUNNING\n",
    "from collections import defaultdict\n",
    "import pandas as pd\n",
    "import matplotlib.pyplot as plt\n",
    "from pyearth import Earth\n",
    "from sklearn.gaussian_process import GaussianProcess\n",
    "import numpy as np\n",
    "from sklearn.multiclass import OneVsRestClassifier\n",
    "from sklearn.metrics import classification_report\n",
    "from sklearn.cross_validation import cross_val_score, KFold, ShuffleSplit\n",
    "from sklearn.ensemble import RandomForestRegressor, RandomForestClassifier\n",
    "from sklearn.tree import DecisionTreeClassifier\n",
    "from sklearn.linear_model import LogisticRegression\n",
    "from sklearn.linear_model import Lasso, LinearRegression\n",
    "from sklearn.dummy import DummyRegressor, DummyClassifier\n",
    "from sklearn.gaussian_process import GaussianProcess\n",
    "from sklearn.base import clone\n",
    "from sklearn.cross_validation import train_test_split\n",
    "import json\n",
    "import collections\n",
    "import seaborn as sns\n",
    "\n",
    "from sklearn.pipeline import Pipeline\n",
    "from sklearn.base import BaseEstimator\n",
    "%matplotlib inline\n",
    "\n",
    "class EarthOneVsRestClassifier(BaseEstimator):\n",
    "\n",
    "    def __init__(self, **params):\n",
    "        pipeline = Pipeline([\n",
    "                ('earth', (Earth(**params))),\n",
    "                ('logistic', LogisticRegression())\n",
    "            ])\n",
    "        self.clf = OneVsRestClassifier(pipeline)\n",
    "\n",
    "    def fit(self, X, y):\n",
    "        return self.clf.fit(X, y)\n",
    "\n",
    "    def predict(self, X):\n",
    "        return self.clf.predict(X)\n",
    "\n",
    "    def predict_proba(self, X):\n",
    "        return self.clf.predict_proba(X)\n",
    "\n",
    "class EnsembleRegressor(object):\n",
    "    def __init__(self, regs=None):\n",
    "        self.regs = regs\n",
    "\n",
    "    def fit(self, X, y):\n",
    "        return self\n",
    "\n",
    "    def predict(self, X, return_std=False):\n",
    "        if return_std:\n",
    "            means = []\n",
    "            stds = []\n",
    "            for r in self.regs:\n",
    "                m, s = r.predict(X, return_std=True)\n",
    "                means.append(m)\n",
    "                stds.append(s)\n",
    "            means = np.vstack(means).T\n",
    "            stds = np.vstack(stds).T\n",
    "            return np.mean(means, axis=1), (np.sqrt((stds**2).sum(axis=1)) / stds.shape[1])\n",
    "        else:\n",
    "            preds = np.vstack([r.predict(X) for r in self.regs]).T\n",
    "            return np.mean(preds, axis=1)\n",
    "\n",
    "\n",
    "def plot_imp(names, values):\n",
    "    ind = (np.arange(len(names)))\n",
    "    plt.xticks(ind + 0.5, names)\n",
    "    plt.bar(ind, values, width=1)\n",
    "    plt.xlabel('variable index')\n",
    "    plt.ylabel('importance')\n",
    "\n",
    "    \n",
    "def mse(model, X, y):\n",
    "    m = model\n",
    "    return ((m.predict(X) - y)**2).mean() \n",
    "\n",
    "def acc(model, X, y):\n",
    "    return (model.predict(X) == y).mean()\n",
    "\n",
    "def evaluate(model, X, y, score=mse):\n",
    "    train_scores = []\n",
    "    test_scores = []\n",
    "    models = []\n",
    "    for train, test in KFold(X.shape[0], n_folds=2, shuffle=True, random_state=4):\n",
    "        m = clone(model)\n",
    "        m.fit(X[train], y[train])\n",
    "        train_scores.append(score(m, X[train], y[train]) )\n",
    "        test_scores.append(score(m, X[test], y[test]) )\n",
    "        models.append(m)\n",
    "    train_scores = np.array(train_scores)\n",
    "    test_scores = np.array(test_scores)\n",
    "    return models, train_scores, test_scores\n",
    "\n",
    "from sklearn.svm import SVR\n",
    "\n",
    "def smooth_image(x, y, z, w=100, h=100, model=SVR()):\n",
    "    X = np.vstack((x, y)).T\n",
    "    model.fit(X, z)\n",
    "    x, y = np.meshgrid(\n",
    "        np.linspace(x.min(), x.max(), w),\n",
    "        np.linspace(y.min(), y.max(), h)\n",
    "    )\n",
    "    x = x.flatten()\n",
    "    y = y.flatten()\n",
    "    xs = np.vstack((x, y)).T\n",
    "    zs = model.predict(xs)\n",
    "    zs = zs.reshape((w, h))\n",
    "    return zs\n",
    "\n",
    "def flatten_dict(l):\n",
    "    d = {}\n",
    "    for k, v in l.items():\n",
    "        if isinstance(v, collections.Mapping):\n",
    "            d.update(flatten_dict(v))\n",
    "        elif isinstance(v, list) or isinstance(v, tuple):\n",
    "            for i, l in enumerate(v):\n",
    "                d[k+'_{}'.format(i)] = l\n",
    "        else:\n",
    "            d[k] = v\n",
    "    return d"
   ]
  },
  {
   "cell_type": "code",
   "execution_count": 2,
   "metadata": {
    "collapsed": false
   },
   "outputs": [],
   "source": [
    "db = load_db()"
   ]
  },
  {
   "cell_type": "code",
   "execution_count": 3,
   "metadata": {
    "collapsed": false
   },
   "outputs": [],
   "source": [
    "jobs = db.jobs_with(state=SUCCESS)\n",
    "jobs = list(jobs)"
   ]
  },
  {
   "cell_type": "code",
   "execution_count": 21,
   "metadata": {
    "collapsed": false
   },
   "outputs": [],
   "source": [
    "stats = defaultdict(list)\n",
    "for j in jobs:\n",
    "\n",
    "    for k, v in j['content']['model'].items():\n",
    "        stats[k].append(v)\n",
    "    \n",
    "    if j['hist'] is not None:  \n",
    "        for h in j['hist'][0].keys():\n",
    "            d = [a[h] for a in j['hist']]\n",
    "            stats[h].append(d)\n",
    "    stats['summary'].append(j['summary'])\n",
    "    stats['where'].append(j['where'])\n",
    "df = pd.DataFrame(stats)\n",
    "\n",
    "df['last_g_loss'] = df['g_loss'].apply(lambda l:l[-1])\n",
    "df['last_d_loss'] = df['d_loss'].apply(lambda l:l[-1])\n",
    "df['min_g_loss'] = df['g_loss'].apply(lambda l:np.min(l))\n",
    "df['min_d_loss'] = df.apply(lambda c:c['d_loss'][np.argmin(c['g_loss'])], axis=1)\n",
    "df['ratio_loss'] = df['last_g_loss'] / df['last_d_loss']"
   ]
  },
  {
   "cell_type": "code",
   "execution_count": 22,
   "metadata": {
    "collapsed": false
   },
   "outputs": [],
   "source": [
    "pd.set_option('display.max_columns', None)\n",
    "df = df.sort_values(by='ratio_loss', ascending=True)"
   ]
  },
  {
   "cell_type": "code",
   "execution_count": 55,
   "metadata": {
    "collapsed": false
   },
   "outputs": [],
   "source": [
    "from IPython.display import Image, display\n",
    "summaries = df['summary']\n",
    "for s in summaries:\n",
    "    filename = 'results/{}/samples00200.png'.format(s)\n",
    "    #print(filename)\n",
    "    #display(Image(filename))"
   ]
  },
  {
   "cell_type": "code",
   "execution_count": 68,
   "metadata": {
    "collapsed": false
   },
   "outputs": [
    {
     "data": {
      "text/html": [
       "<div>\n",
       "<table border=\"1\" class=\"dataframe\">\n",
       "  <thead>\n",
       "    <tr style=\"text-align: right;\">\n",
       "      <th></th>\n",
       "      <th>num_filters_d</th>\n",
       "      <th>num_filters_g</th>\n",
       "      <th>scale</th>\n",
       "      <th>do_batch_norm</th>\n",
       "      <th>start_w</th>\n",
       "      <th>start_h</th>\n",
       "      <th>filter_size</th>\n",
       "      <th>where_js1</th>\n",
       "      <th>where_js2</th>\n",
       "      <th>where_js3</th>\n",
       "      <th>where_js4</th>\n",
       "      <th>where_js5</th>\n",
       "      <th>where_js6</th>\n",
       "    </tr>\n",
       "  </thead>\n",
       "  <tbody>\n",
       "    <tr>\n",
       "      <th>169</th>\n",
       "      <td>16</td>\n",
       "      <td>32</td>\n",
       "      <td>0.000562</td>\n",
       "      <td>True</td>\n",
       "      <td>4</td>\n",
       "      <td>4</td>\n",
       "      <td>5</td>\n",
       "      <td>0.0</td>\n",
       "      <td>1.0</td>\n",
       "      <td>0.0</td>\n",
       "      <td>0.0</td>\n",
       "      <td>0.0</td>\n",
       "      <td>0.0</td>\n",
       "    </tr>\n",
       "    <tr>\n",
       "      <th>43</th>\n",
       "      <td>16</td>\n",
       "      <td>64</td>\n",
       "      <td>0.000562</td>\n",
       "      <td>True</td>\n",
       "      <td>4</td>\n",
       "      <td>4</td>\n",
       "      <td>5</td>\n",
       "      <td>1.0</td>\n",
       "      <td>0.0</td>\n",
       "      <td>0.0</td>\n",
       "      <td>0.0</td>\n",
       "      <td>0.0</td>\n",
       "      <td>0.0</td>\n",
       "    </tr>\n",
       "    <tr>\n",
       "      <th>79</th>\n",
       "      <td>16</td>\n",
       "      <td>128</td>\n",
       "      <td>0.003162</td>\n",
       "      <td>True</td>\n",
       "      <td>4</td>\n",
       "      <td>4</td>\n",
       "      <td>5</td>\n",
       "      <td>1.0</td>\n",
       "      <td>0.0</td>\n",
       "      <td>0.0</td>\n",
       "      <td>0.0</td>\n",
       "      <td>0.0</td>\n",
       "      <td>0.0</td>\n",
       "    </tr>\n",
       "    <tr>\n",
       "      <th>42</th>\n",
       "      <td>16</td>\n",
       "      <td>64</td>\n",
       "      <td>0.000562</td>\n",
       "      <td>True</td>\n",
       "      <td>4</td>\n",
       "      <td>4</td>\n",
       "      <td>5</td>\n",
       "      <td>1.0</td>\n",
       "      <td>0.0</td>\n",
       "      <td>0.0</td>\n",
       "      <td>0.0</td>\n",
       "      <td>0.0</td>\n",
       "      <td>0.0</td>\n",
       "    </tr>\n",
       "    <tr>\n",
       "      <th>3</th>\n",
       "      <td>8</td>\n",
       "      <td>32</td>\n",
       "      <td>0.000100</td>\n",
       "      <td>True</td>\n",
       "      <td>4</td>\n",
       "      <td>4</td>\n",
       "      <td>5</td>\n",
       "      <td>1.0</td>\n",
       "      <td>0.0</td>\n",
       "      <td>0.0</td>\n",
       "      <td>0.0</td>\n",
       "      <td>0.0</td>\n",
       "      <td>0.0</td>\n",
       "    </tr>\n",
       "  </tbody>\n",
       "</table>\n",
       "</div>"
      ],
      "text/plain": [
       "     num_filters_d  num_filters_g     scale do_batch_norm  start_w  start_h  \\\n",
       "169             16             32  0.000562          True        4        4   \n",
       "43              16             64  0.000562          True        4        4   \n",
       "79              16            128  0.003162          True        4        4   \n",
       "42              16             64  0.000562          True        4        4   \n",
       "3                8             32  0.000100          True        4        4   \n",
       "\n",
       "     filter_size  where_js1  where_js2  where_js3  where_js4  where_js5  \\\n",
       "169            5        0.0        1.0        0.0        0.0        0.0   \n",
       "43             5        1.0        0.0        0.0        0.0        0.0   \n",
       "79             5        1.0        0.0        0.0        0.0        0.0   \n",
       "42             5        1.0        0.0        0.0        0.0        0.0   \n",
       "3              5        1.0        0.0        0.0        0.0        0.0   \n",
       "\n",
       "     where_js6  \n",
       "169        0.0  \n",
       "43         0.0  \n",
       "79         0.0  \n",
       "42         0.0  \n",
       "3          0.0  "
      ]
     },
     "execution_count": 68,
     "metadata": {},
     "output_type": "execute_result"
    }
   ],
   "source": [
    "df_x = df[['num_filters_d', 'num_filters_g', 'scale', 'do_batch_norm', 'start_w', 'start_h', 'filter_size', 'where']]\n",
    "df_x = pd.get_dummies(df_x)\n",
    "colnames = df_x.columns\n",
    "df_x.head()"
   ]
  },
  {
   "cell_type": "code",
   "execution_count": 202,
   "metadata": {
    "collapsed": false
   },
   "outputs": [],
   "source": [
    "X = df_x.values\n",
    "y = df[['last_d_loss']].values\n",
    "X_train, X_test, y_train, y_test = train_test_split(X, y, test_size=0.25)"
   ]
  },
  {
   "cell_type": "code",
   "execution_count": 203,
   "metadata": {
    "collapsed": false
   },
   "outputs": [
    {
     "name": "stderr",
     "output_type": "stream",
     "text": [
      "/home/ubuntu/miniconda2/envs/python2/lib/python2.7/site-packages/ipykernel/__main__.py:60: DataConversionWarning: A column-vector y was passed when a 1d array was expected. Please change the shape of y to (n_samples,), for example using ravel().\n"
     ]
    },
    {
     "data": {
      "text/html": [
       "<div>\n",
       "<table border=\"1\" class=\"dataframe\">\n",
       "  <thead>\n",
       "    <tr style=\"text-align: right;\">\n",
       "      <th></th>\n",
       "      <th>model</th>\n",
       "      <th>train_mean</th>\n",
       "      <th>train_std</th>\n",
       "      <th>valid_mean</th>\n",
       "      <th>valid_std</th>\n",
       "    </tr>\n",
       "  </thead>\n",
       "  <tbody>\n",
       "    <tr>\n",
       "      <th>2</th>\n",
       "      <td>LinearRegression</td>\n",
       "      <td>0.090766</td>\n",
       "      <td>0.009073</td>\n",
       "      <td>0.102177</td>\n",
       "      <td>0.011565</td>\n",
       "    </tr>\n",
       "    <tr>\n",
       "      <th>3</th>\n",
       "      <td>DummyRegressor</td>\n",
       "      <td>0.281898</td>\n",
       "      <td>0.008911</td>\n",
       "      <td>0.282085</td>\n",
       "      <td>0.008911</td>\n",
       "    </tr>\n",
       "    <tr>\n",
       "      <th>1</th>\n",
       "      <td>Lasso</td>\n",
       "      <td>0.445353</td>\n",
       "      <td>0.034764</td>\n",
       "      <td>0.448991</td>\n",
       "      <td>0.009313</td>\n",
       "    </tr>\n",
       "    <tr>\n",
       "      <th>0</th>\n",
       "      <td>Earth</td>\n",
       "      <td>0.485852</td>\n",
       "      <td>0.028871</td>\n",
       "      <td>0.485842</td>\n",
       "      <td>0.017331</td>\n",
       "    </tr>\n",
       "    <tr>\n",
       "      <th>4</th>\n",
       "      <td>RandomForestRegressor</td>\n",
       "      <td>0.516084</td>\n",
       "      <td>0.016666</td>\n",
       "      <td>0.520745</td>\n",
       "      <td>0.025328</td>\n",
       "    </tr>\n",
       "  </tbody>\n",
       "</table>\n",
       "</div>"
      ],
      "text/plain": [
       "                   model  train_mean  train_std  valid_mean  valid_std\n",
       "2       LinearRegression    0.090766   0.009073    0.102177   0.011565\n",
       "3         DummyRegressor    0.281898   0.008911    0.282085   0.008911\n",
       "1                  Lasso    0.445353   0.034764    0.448991   0.009313\n",
       "0                  Earth    0.485852   0.028871    0.485842   0.017331\n",
       "4  RandomForestRegressor    0.516084   0.016666    0.520745   0.025328"
      ]
     },
     "execution_count": 203,
     "metadata": {},
     "output_type": "execute_result"
    }
   ],
   "source": [
    "models = {\n",
    "   'Earth': Earth(max_degree=2, max_terms=10, \n",
    "                  smooth=False, thresh=0, minspan=1, \n",
    "                  check_every=1,\n",
    "                  verbose=0,\n",
    "                  feature_importance_type='rss',\n",
    "                  endspan=1),\n",
    "    'RandomForestRegressor': RandomForestRegressor(max_depth=20, n_estimators=10),\n",
    "    'LinearRegression': LinearRegression(),\n",
    "    'Lasso': Lasso(alpha=0.1),\n",
    "    'DummyRegressor': DummyRegressor(),\n",
    "}\n",
    "result = {}\n",
    "cols = defaultdict(list)\n",
    "for name, m in models.items():\n",
    "    models, train, valid = evaluate(m, X_train, y_train)\n",
    "    cols['model'].append(m.__class__.__name__)\n",
    "    cols['train_mean'].append(train.mean())\n",
    "    cols['train_std'].append(train.std())\n",
    "    cols['valid_mean'].append(valid.mean())\n",
    "    cols['valid_std'].append(valid.std())\n",
    "    #cols['test'].append\n",
    "    result[name] = models\n",
    "#earth = models[0]\n",
    "#earth.fit(X, y)\n",
    "results = pd.DataFrame(cols)\n",
    "results = results.sort_values(by='valid_mean')\n",
    "results"
   ]
  },
  {
   "cell_type": "code",
   "execution_count": 204,
   "metadata": {
    "collapsed": false
   },
   "outputs": [
    {
     "data": {
      "text/plain": [
       "0.095355878416245779"
      ]
     },
     "execution_count": 204,
     "metadata": {},
     "output_type": "execute_result"
    }
   ],
   "source": [
    "last_model = result[results.iloc[0]['model']][0]\n",
    "mse(last_model, X_test, y_test)"
   ]
  },
  {
   "cell_type": "markdown",
   "metadata": {
    "collapsed": true
   },
   "source": [
    "## Linear regression"
   ]
  },
  {
   "cell_type": "code",
   "execution_count": 176,
   "metadata": {
    "collapsed": false
   },
   "outputs": [],
   "source": [
    "lin = result['LinearRegression'][0]"
   ]
  },
  {
   "cell_type": "code",
   "execution_count": 177,
   "metadata": {
    "collapsed": false
   },
   "outputs": [
    {
     "data": {
      "image/png": "[encoded data removed]",
      "text/plain": [
       "<matplotlib.figure.Figure at 0x7f13d4111850>"
      ]
     },
     "metadata": {},
     "output_type": "display_data"
    }
   ],
   "source": [
    "for imp in lin.coef_:\n",
    "    indices = range(len(imp))\n",
    "    low = sorted(indices, key=lambda i:imp[i])\n",
    "    low = low[0:4]\n",
    "    high = sorted(indices, key=lambda i:-imp[i])\n",
    "    high = high[0:4]\n",
    "    indices = low + high\n",
    "    names = colnames\n",
    "    names = map(lambda i:names[i], indices)\n",
    "    imp = map(lambda i:imp[i], indices)\n",
    "    fig = plt.figure(figsize=(12, 8))\n",
    "    plot_imp(names, imp)\n",
    "    plt.show()"
   ]
  },
  {
   "cell_type": "markdown",
   "metadata": {},
   "source": [
    "## Earth"
   ]
  },
  {
   "cell_type": "code",
   "execution_count": 101,
   "metadata": {
    "collapsed": false
   },
   "outputs": [
    {
     "name": "stdout",
     "output_type": "stream",
     "text": [
      "Earth Model\n",
      "--------------------------------------\n",
      "Basis Function  Pruned  Coefficient   \n",
      "--------------------------------------\n",
      "(Intercept)     No      0.362423      \n",
      "x0              No      0.146794      \n",
      "x10             No      1.42811       \n",
      "x0*x0           No      -0.000835107  \n",
      "x8*x0           No      -0.0747142    \n",
      "x7*x0           No      -0.0537206    \n",
      "--------------------------------------\n",
      "MSE: 1.4588, GCV: 1.6639, RSQ: 0.7252, GRSQ: 0.6895\n"
     ]
    }
   ],
   "source": [
    "earth = result['earth'][0]\n",
    "print(earth.summary())"
   ]
  },
  {
   "cell_type": "code",
   "execution_count": 102,
   "metadata": {
    "collapsed": false
   },
   "outputs": [
    {
     "data": {
      "image/png": "[encoded data removed]",
      "text/plain": [
       "<matplotlib.figure.Figure at 0x7f13cfce6290>"
      ]
     },
     "metadata": {},
     "output_type": "display_data"
    }
   ],
   "source": [
    "fig = plt.figure(figsize=(20, 5))\n",
    "plot_imp(colnames, earth.feature_importances_)"
   ]
  },
  {
   "cell_type": "markdown",
   "metadata": {},
   "source": [
    "## By using images"
   ]
  },
  {
   "cell_type": "code",
   "execution_count": 298,
   "metadata": {
    "collapsed": false
   },
   "outputs": [],
   "source": [
    "df = pd.read_csv('http://127.0.0.1:20000/export_data?type=classification&class=gan')"
   ]
  },
  {
   "cell_type": "code",
   "execution_count": 299,
   "metadata": {
    "collapsed": false
   },
   "outputs": [
    {
     "data": {
      "text/html": [
       "<div>\n",
       "<table border=\"1\" class=\"dataframe\">\n",
       "  <thead>\n",
       "    <tr style=\"text-align: right;\">\n",
       "      <th></th>\n",
       "      <th>id</th>\n",
       "      <th>hypers</th>\n",
       "      <th>user</th>\n",
       "      <th>label</th>\n",
       "    </tr>\n",
       "  </thead>\n",
       "  <tbody>\n",
       "    <tr>\n",
       "      <th>0</th>\n",
       "      <td>6b4b62c1c2f5eecbfb032fb6e9ef8b4c</td>\n",
       "      <td>{\"c\": 1, \"h\": 32, \"subset_ratio\": 1, \"dataset\"...</td>\n",
       "      <td>mehdi</td>\n",
       "      <td>bad</td>\n",
       "    </tr>\n",
       "    <tr>\n",
       "      <th>1</th>\n",
       "      <td>46d26dd46f950a388388f63e50f53259</td>\n",
       "      <td>{\"c\": 1, \"h\": 32, \"subset_ratio\": 1, \"dataset\"...</td>\n",
       "      <td>mehdi</td>\n",
       "      <td>okay</td>\n",
       "    </tr>\n",
       "    <tr>\n",
       "      <th>2</th>\n",
       "      <td>d345decc2ff601f5c2c7a078460e4b4b</td>\n",
       "      <td>{\"c\": 1, \"h\": 32, \"subset_ratio\": 0.01, \"datas...</td>\n",
       "      <td>mehdi</td>\n",
       "      <td>very_bad</td>\n",
       "    </tr>\n",
       "    <tr>\n",
       "      <th>3</th>\n",
       "      <td>f250d94c5239ed8cc87fd190f9e57642</td>\n",
       "      <td>{\"c\": 1, \"h\": 32, \"subset_ratio\": 1, \"dataset\"...</td>\n",
       "      <td>mehdi</td>\n",
       "      <td>bad</td>\n",
       "    </tr>\n",
       "    <tr>\n",
       "      <th>4</th>\n",
       "      <td>73790554afe39027ca68cdb3bacecd97</td>\n",
       "      <td>{\"c\": 1, \"h\": 32, \"subset_ratio\": 1, \"dataset\"...</td>\n",
       "      <td>mehdi</td>\n",
       "      <td>okay</td>\n",
       "    </tr>\n",
       "  </tbody>\n",
       "</table>\n",
       "</div>"
      ],
      "text/plain": [
       "                                 id  \\\n",
       "0  6b4b62c1c2f5eecbfb032fb6e9ef8b4c   \n",
       "1  46d26dd46f950a388388f63e50f53259   \n",
       "2  d345decc2ff601f5c2c7a078460e4b4b   \n",
       "3  f250d94c5239ed8cc87fd190f9e57642   \n",
       "4  73790554afe39027ca68cdb3bacecd97   \n",
       "\n",
       "                                              hypers   user     label  \n",
       "0  {\"c\": 1, \"h\": 32, \"subset_ratio\": 1, \"dataset\"...  mehdi       bad  \n",
       "1  {\"c\": 1, \"h\": 32, \"subset_ratio\": 1, \"dataset\"...  mehdi      okay  \n",
       "2  {\"c\": 1, \"h\": 32, \"subset_ratio\": 0.01, \"datas...  mehdi  very_bad  \n",
       "3  {\"c\": 1, \"h\": 32, \"subset_ratio\": 1, \"dataset\"...  mehdi       bad  \n",
       "4  {\"c\": 1, \"h\": 32, \"subset_ratio\": 1, \"dataset\"...  mehdi      okay  "
      ]
     },
     "execution_count": 299,
     "metadata": {},
     "output_type": "execute_result"
    }
   ],
   "source": [
    "df.head()"
   ]
  },
  {
   "cell_type": "code",
   "execution_count": 300,
   "metadata": {
    "collapsed": false
   },
   "outputs": [
    {
     "name": "stdout",
     "output_type": "stream",
     "text": [
      "[u'subset_ratio', u'do_batch_norm', u'dataset', u'filter_size', u'seed', u'b1', u'nb_epochs', u'epoch_start_decay', u'c', u'scale', u'start_h', u'num_filters_d', u'h', u'num_filters_g', u'lr_decay', u'lr', u'l2_coef', u'w', u'start_w', u'model_name']\n"
     ]
    }
   ],
   "source": [
    "colnames = set()\n",
    "for i in range(len(df)):\n",
    "    h = df['hypers'].iloc[i]\n",
    "    h = json.loads(h)\n",
    "    h = flatten_dict(h)\n",
    "    colnames |= set(h.keys())\n",
    "colnames = list(colnames)\n",
    "print(colnames)\n",
    "for col in colnames:\n",
    "    df[col] = df.apply(lambda r:flatten_dict(json.loads(r['hypers'])).get(col), axis=1)\n",
    "#df['nb_filters']"
   ]
  },
  {
   "cell_type": "code",
   "execution_count": 317,
   "metadata": {
    "collapsed": false
   },
   "outputs": [
    {
     "data": {
      "text/html": [
       "<div>\n",
       "<table border=\"1\" class=\"dataframe\">\n",
       "  <thead>\n",
       "    <tr style=\"text-align: right;\">\n",
       "      <th></th>\n",
       "      <th>subset_ratio_0.01</th>\n",
       "      <th>subset_ratio_0.1</th>\n",
       "      <th>subset_ratio_1.0</th>\n",
       "      <th>do_batch_norm_True</th>\n",
       "      <th>dataset_fonts</th>\n",
       "      <th>dataset_insects</th>\n",
       "      <th>dataset_mnist</th>\n",
       "      <th>filter_size_5</th>\n",
       "      <th>seed_42.0</th>\n",
       "      <th>b1_0.5</th>\n",
       "      <th>nb_epochs_100</th>\n",
       "      <th>nb_epochs_200</th>\n",
       "      <th>epoch_start_decay_100.0</th>\n",
       "      <th>c_1</th>\n",
       "      <th>c_3</th>\n",
       "      <th>scale_0.0001</th>\n",
       "      <th>scale_0.00056234132519</th>\n",
       "      <th>scale_0.00316227766017</th>\n",
       "      <th>scale_0.0177827941004</th>\n",
       "      <th>scale_0.1</th>\n",
       "      <th>start_h_4</th>\n",
       "      <th>num_filters_d_4</th>\n",
       "      <th>num_filters_d_8</th>\n",
       "      <th>num_filters_d_16</th>\n",
       "      <th>num_filters_d_32</th>\n",
       "      <th>num_filters_d_64</th>\n",
       "      <th>num_filters_d_128</th>\n",
       "      <th>h_32</th>\n",
       "      <th>h_64</th>\n",
       "      <th>num_filters_g_32</th>\n",
       "      <th>num_filters_g_64</th>\n",
       "      <th>num_filters_g_128</th>\n",
       "      <th>num_filters_g_256</th>\n",
       "      <th>num_filters_g_512</th>\n",
       "      <th>num_filters_g_1024</th>\n",
       "      <th>lr_decay_0.9</th>\n",
       "      <th>lr_decay_0.97</th>\n",
       "      <th>lr_decay_0.99</th>\n",
       "      <th>lr_decay_1.0</th>\n",
       "      <th>lr_1e-05</th>\n",
       "      <th>lr_5e-05</th>\n",
       "      <th>lr_0.0002</th>\n",
       "      <th>lr_0.001</th>\n",
       "      <th>l2_coef_0.0</th>\n",
       "      <th>l2_coef_1e-07</th>\n",
       "      <th>l2_coef_1e-05</th>\n",
       "      <th>l2_coef_0.001</th>\n",
       "      <th>w_32</th>\n",
       "      <th>w_64</th>\n",
       "      <th>start_w_4</th>\n",
       "      <th>model_name_dcgan</th>\n",
       "    </tr>\n",
       "  </thead>\n",
       "  <tbody>\n",
       "    <tr>\n",
       "      <th>0</th>\n",
       "      <td>0.0</td>\n",
       "      <td>0.0</td>\n",
       "      <td>1.0</td>\n",
       "      <td>1.0</td>\n",
       "      <td>1.0</td>\n",
       "      <td>0.0</td>\n",
       "      <td>0.0</td>\n",
       "      <td>1.0</td>\n",
       "      <td>0.0</td>\n",
       "      <td>1.0</td>\n",
       "      <td>0.0</td>\n",
       "      <td>1.0</td>\n",
       "      <td>0.0</td>\n",
       "      <td>1.0</td>\n",
       "      <td>0.0</td>\n",
       "      <td>0.0</td>\n",
       "      <td>0.0</td>\n",
       "      <td>0.0</td>\n",
       "      <td>1.0</td>\n",
       "      <td>0.0</td>\n",
       "      <td>1.0</td>\n",
       "      <td>0.0</td>\n",
       "      <td>0.0</td>\n",
       "      <td>0.0</td>\n",
       "      <td>0.0</td>\n",
       "      <td>1.0</td>\n",
       "      <td>0.0</td>\n",
       "      <td>1.0</td>\n",
       "      <td>0.0</td>\n",
       "      <td>0.0</td>\n",
       "      <td>1.0</td>\n",
       "      <td>0.0</td>\n",
       "      <td>0.0</td>\n",
       "      <td>0.0</td>\n",
       "      <td>0.0</td>\n",
       "      <td>0.0</td>\n",
       "      <td>0.0</td>\n",
       "      <td>0.0</td>\n",
       "      <td>0.0</td>\n",
       "      <td>0.0</td>\n",
       "      <td>0.0</td>\n",
       "      <td>1.0</td>\n",
       "      <td>0.0</td>\n",
       "      <td>0.0</td>\n",
       "      <td>0.0</td>\n",
       "      <td>0.0</td>\n",
       "      <td>0.0</td>\n",
       "      <td>1.0</td>\n",
       "      <td>0.0</td>\n",
       "      <td>1.0</td>\n",
       "      <td>1.0</td>\n",
       "    </tr>\n",
       "    <tr>\n",
       "      <th>1</th>\n",
       "      <td>0.0</td>\n",
       "      <td>0.0</td>\n",
       "      <td>1.0</td>\n",
       "      <td>1.0</td>\n",
       "      <td>1.0</td>\n",
       "      <td>0.0</td>\n",
       "      <td>0.0</td>\n",
       "      <td>1.0</td>\n",
       "      <td>0.0</td>\n",
       "      <td>1.0</td>\n",
       "      <td>0.0</td>\n",
       "      <td>1.0</td>\n",
       "      <td>0.0</td>\n",
       "      <td>1.0</td>\n",
       "      <td>0.0</td>\n",
       "      <td>0.0</td>\n",
       "      <td>0.0</td>\n",
       "      <td>0.0</td>\n",
       "      <td>1.0</td>\n",
       "      <td>0.0</td>\n",
       "      <td>1.0</td>\n",
       "      <td>0.0</td>\n",
       "      <td>1.0</td>\n",
       "      <td>0.0</td>\n",
       "      <td>0.0</td>\n",
       "      <td>0.0</td>\n",
       "      <td>0.0</td>\n",
       "      <td>1.0</td>\n",
       "      <td>0.0</td>\n",
       "      <td>0.0</td>\n",
       "      <td>0.0</td>\n",
       "      <td>0.0</td>\n",
       "      <td>0.0</td>\n",
       "      <td>0.0</td>\n",
       "      <td>1.0</td>\n",
       "      <td>0.0</td>\n",
       "      <td>0.0</td>\n",
       "      <td>0.0</td>\n",
       "      <td>0.0</td>\n",
       "      <td>0.0</td>\n",
       "      <td>0.0</td>\n",
       "      <td>1.0</td>\n",
       "      <td>0.0</td>\n",
       "      <td>0.0</td>\n",
       "      <td>0.0</td>\n",
       "      <td>0.0</td>\n",
       "      <td>0.0</td>\n",
       "      <td>1.0</td>\n",
       "      <td>0.0</td>\n",
       "      <td>1.0</td>\n",
       "      <td>1.0</td>\n",
       "    </tr>\n",
       "    <tr>\n",
       "      <th>2</th>\n",
       "      <td>1.0</td>\n",
       "      <td>0.0</td>\n",
       "      <td>0.0</td>\n",
       "      <td>1.0</td>\n",
       "      <td>1.0</td>\n",
       "      <td>0.0</td>\n",
       "      <td>0.0</td>\n",
       "      <td>1.0</td>\n",
       "      <td>0.0</td>\n",
       "      <td>1.0</td>\n",
       "      <td>1.0</td>\n",
       "      <td>0.0</td>\n",
       "      <td>0.0</td>\n",
       "      <td>1.0</td>\n",
       "      <td>0.0</td>\n",
       "      <td>0.0</td>\n",
       "      <td>0.0</td>\n",
       "      <td>1.0</td>\n",
       "      <td>0.0</td>\n",
       "      <td>0.0</td>\n",
       "      <td>1.0</td>\n",
       "      <td>0.0</td>\n",
       "      <td>1.0</td>\n",
       "      <td>0.0</td>\n",
       "      <td>0.0</td>\n",
       "      <td>0.0</td>\n",
       "      <td>0.0</td>\n",
       "      <td>1.0</td>\n",
       "      <td>0.0</td>\n",
       "      <td>0.0</td>\n",
       "      <td>0.0</td>\n",
       "      <td>1.0</td>\n",
       "      <td>0.0</td>\n",
       "      <td>0.0</td>\n",
       "      <td>0.0</td>\n",
       "      <td>0.0</td>\n",
       "      <td>0.0</td>\n",
       "      <td>0.0</td>\n",
       "      <td>0.0</td>\n",
       "      <td>0.0</td>\n",
       "      <td>0.0</td>\n",
       "      <td>1.0</td>\n",
       "      <td>0.0</td>\n",
       "      <td>0.0</td>\n",
       "      <td>0.0</td>\n",
       "      <td>0.0</td>\n",
       "      <td>0.0</td>\n",
       "      <td>1.0</td>\n",
       "      <td>0.0</td>\n",
       "      <td>1.0</td>\n",
       "      <td>1.0</td>\n",
       "    </tr>\n",
       "    <tr>\n",
       "      <th>3</th>\n",
       "      <td>0.0</td>\n",
       "      <td>0.0</td>\n",
       "      <td>1.0</td>\n",
       "      <td>1.0</td>\n",
       "      <td>0.0</td>\n",
       "      <td>0.0</td>\n",
       "      <td>1.0</td>\n",
       "      <td>1.0</td>\n",
       "      <td>0.0</td>\n",
       "      <td>1.0</td>\n",
       "      <td>1.0</td>\n",
       "      <td>0.0</td>\n",
       "      <td>0.0</td>\n",
       "      <td>1.0</td>\n",
       "      <td>0.0</td>\n",
       "      <td>0.0</td>\n",
       "      <td>0.0</td>\n",
       "      <td>1.0</td>\n",
       "      <td>0.0</td>\n",
       "      <td>0.0</td>\n",
       "      <td>1.0</td>\n",
       "      <td>0.0</td>\n",
       "      <td>1.0</td>\n",
       "      <td>0.0</td>\n",
       "      <td>0.0</td>\n",
       "      <td>0.0</td>\n",
       "      <td>0.0</td>\n",
       "      <td>1.0</td>\n",
       "      <td>0.0</td>\n",
       "      <td>0.0</td>\n",
       "      <td>1.0</td>\n",
       "      <td>0.0</td>\n",
       "      <td>0.0</td>\n",
       "      <td>0.0</td>\n",
       "      <td>0.0</td>\n",
       "      <td>0.0</td>\n",
       "      <td>0.0</td>\n",
       "      <td>0.0</td>\n",
       "      <td>0.0</td>\n",
       "      <td>0.0</td>\n",
       "      <td>0.0</td>\n",
       "      <td>1.0</td>\n",
       "      <td>0.0</td>\n",
       "      <td>0.0</td>\n",
       "      <td>0.0</td>\n",
       "      <td>0.0</td>\n",
       "      <td>0.0</td>\n",
       "      <td>1.0</td>\n",
       "      <td>0.0</td>\n",
       "      <td>1.0</td>\n",
       "      <td>1.0</td>\n",
       "    </tr>\n",
       "    <tr>\n",
       "      <th>4</th>\n",
       "      <td>0.0</td>\n",
       "      <td>0.0</td>\n",
       "      <td>1.0</td>\n",
       "      <td>1.0</td>\n",
       "      <td>0.0</td>\n",
       "      <td>0.0</td>\n",
       "      <td>1.0</td>\n",
       "      <td>1.0</td>\n",
       "      <td>0.0</td>\n",
       "      <td>1.0</td>\n",
       "      <td>1.0</td>\n",
       "      <td>0.0</td>\n",
       "      <td>0.0</td>\n",
       "      <td>1.0</td>\n",
       "      <td>0.0</td>\n",
       "      <td>1.0</td>\n",
       "      <td>0.0</td>\n",
       "      <td>0.0</td>\n",
       "      <td>0.0</td>\n",
       "      <td>0.0</td>\n",
       "      <td>1.0</td>\n",
       "      <td>1.0</td>\n",
       "      <td>0.0</td>\n",
       "      <td>0.0</td>\n",
       "      <td>0.0</td>\n",
       "      <td>0.0</td>\n",
       "      <td>0.0</td>\n",
       "      <td>1.0</td>\n",
       "      <td>0.0</td>\n",
       "      <td>1.0</td>\n",
       "      <td>0.0</td>\n",
       "      <td>0.0</td>\n",
       "      <td>0.0</td>\n",
       "      <td>0.0</td>\n",
       "      <td>0.0</td>\n",
       "      <td>0.0</td>\n",
       "      <td>0.0</td>\n",
       "      <td>0.0</td>\n",
       "      <td>0.0</td>\n",
       "      <td>0.0</td>\n",
       "      <td>0.0</td>\n",
       "      <td>1.0</td>\n",
       "      <td>0.0</td>\n",
       "      <td>0.0</td>\n",
       "      <td>0.0</td>\n",
       "      <td>0.0</td>\n",
       "      <td>0.0</td>\n",
       "      <td>1.0</td>\n",
       "      <td>0.0</td>\n",
       "      <td>1.0</td>\n",
       "      <td>1.0</td>\n",
       "    </tr>\n",
       "  </tbody>\n",
       "</table>\n",
       "</div>"
      ],
      "text/plain": [
       "   subset_ratio_0.01  subset_ratio_0.1  subset_ratio_1.0  do_batch_norm_True  \\\n",
       "0                0.0               0.0               1.0                 1.0   \n",
       "1                0.0               0.0               1.0                 1.0   \n",
       "2                1.0               0.0               0.0                 1.0   \n",
       "3                0.0               0.0               1.0                 1.0   \n",
       "4                0.0               0.0               1.0                 1.0   \n",
       "\n",
       "   dataset_fonts  dataset_insects  dataset_mnist  filter_size_5  seed_42.0  \\\n",
       "0            1.0              0.0            0.0            1.0        0.0   \n",
       "1            1.0              0.0            0.0            1.0        0.0   \n",
       "2            1.0              0.0            0.0            1.0        0.0   \n",
       "3            0.0              0.0            1.0            1.0        0.0   \n",
       "4            0.0              0.0            1.0            1.0        0.0   \n",
       "\n",
       "   b1_0.5  nb_epochs_100  nb_epochs_200  epoch_start_decay_100.0  c_1  c_3  \\\n",
       "0     1.0            0.0            1.0                      0.0  1.0  0.0   \n",
       "1     1.0            0.0            1.0                      0.0  1.0  0.0   \n",
       "2     1.0            1.0            0.0                      0.0  1.0  0.0   \n",
       "3     1.0            1.0            0.0                      0.0  1.0  0.0   \n",
       "4     1.0            1.0            0.0                      0.0  1.0  0.0   \n",
       "\n",
       "   scale_0.0001  scale_0.00056234132519  scale_0.00316227766017  \\\n",
       "0           0.0                     0.0                     0.0   \n",
       "1           0.0                     0.0                     0.0   \n",
       "2           0.0                     0.0                     1.0   \n",
       "3           0.0                     0.0                     1.0   \n",
       "4           1.0                     0.0                     0.0   \n",
       "\n",
       "   scale_0.0177827941004  scale_0.1  start_h_4  num_filters_d_4  \\\n",
       "0                    1.0        0.0        1.0              0.0   \n",
       "1                    1.0        0.0        1.0              0.0   \n",
       "2                    0.0        0.0        1.0              0.0   \n",
       "3                    0.0        0.0        1.0              0.0   \n",
       "4                    0.0        0.0        1.0              1.0   \n",
       "\n",
       "   num_filters_d_8  num_filters_d_16  num_filters_d_32  num_filters_d_64  \\\n",
       "0              0.0               0.0               0.0               1.0   \n",
       "1              1.0               0.0               0.0               0.0   \n",
       "2              1.0               0.0               0.0               0.0   \n",
       "3              1.0               0.0               0.0               0.0   \n",
       "4              0.0               0.0               0.0               0.0   \n",
       "\n",
       "   num_filters_d_128  h_32  h_64  num_filters_g_32  num_filters_g_64  \\\n",
       "0                0.0   1.0   0.0               0.0               1.0   \n",
       "1                0.0   1.0   0.0               0.0               0.0   \n",
       "2                0.0   1.0   0.0               0.0               0.0   \n",
       "3                0.0   1.0   0.0               0.0               1.0   \n",
       "4                0.0   1.0   0.0               1.0               0.0   \n",
       "\n",
       "   num_filters_g_128  num_filters_g_256  num_filters_g_512  \\\n",
       "0                0.0                0.0                0.0   \n",
       "1                0.0                0.0                0.0   \n",
       "2                1.0                0.0                0.0   \n",
       "3                0.0                0.0                0.0   \n",
       "4                0.0                0.0                0.0   \n",
       "\n",
       "   num_filters_g_1024  lr_decay_0.9  lr_decay_0.97  lr_decay_0.99  \\\n",
       "0                 0.0           0.0            0.0            0.0   \n",
       "1                 1.0           0.0            0.0            0.0   \n",
       "2                 0.0           0.0            0.0            0.0   \n",
       "3                 0.0           0.0            0.0            0.0   \n",
       "4                 0.0           0.0            0.0            0.0   \n",
       "\n",
       "   lr_decay_1.0  lr_1e-05  lr_5e-05  lr_0.0002  lr_0.001  l2_coef_0.0  \\\n",
       "0           0.0       0.0       0.0        1.0       0.0          0.0   \n",
       "1           0.0       0.0       0.0        1.0       0.0          0.0   \n",
       "2           0.0       0.0       0.0        1.0       0.0          0.0   \n",
       "3           0.0       0.0       0.0        1.0       0.0          0.0   \n",
       "4           0.0       0.0       0.0        1.0       0.0          0.0   \n",
       "\n",
       "   l2_coef_1e-07  l2_coef_1e-05  l2_coef_0.001  w_32  w_64  start_w_4  \\\n",
       "0            0.0            0.0            0.0   1.0   0.0        1.0   \n",
       "1            0.0            0.0            0.0   1.0   0.0        1.0   \n",
       "2            0.0            0.0            0.0   1.0   0.0        1.0   \n",
       "3            0.0            0.0            0.0   1.0   0.0        1.0   \n",
       "4            0.0            0.0            0.0   1.0   0.0        1.0   \n",
       "\n",
       "   model_name_dcgan  \n",
       "0               1.0  \n",
       "1               1.0  \n",
       "2               1.0  \n",
       "3               1.0  \n",
       "4               1.0  "
      ]
     },
     "execution_count": 317,
     "metadata": {},
     "output_type": "execute_result"
    }
   ],
   "source": [
    "cols = colnames\n",
    "x_df = df[cols]\n",
    "y_df = df['label'].copy()\n",
    "\n",
    "\"\"\"\n",
    "y_df[y_df == 'excellent'] = '+'\n",
    "y_df[y_df == 'good'] = '+'\n",
    "y_df[y_df == 'okay'] = '+'\n",
    "y_df[y_df == 'bad'] = '-'\n",
    "y_df[y_df == 'very_bad'] = '-'\n",
    "\"\"\"\n",
    "\n",
    "x_df = pd.get_dummies(x_df, columns=cols)\n",
    "x_df.head()"
   ]
  },
  {
   "cell_type": "code",
   "execution_count": 318,
   "metadata": {
    "collapsed": true
   },
   "outputs": [],
   "source": [
    "X = x_df.values\n",
    "y = y_df.values"
   ]
  },
  {
   "cell_type": "code",
   "execution_count": 319,
   "metadata": {
    "collapsed": true
   },
   "outputs": [],
   "source": [
    "X_train, X_test, y_train, y_test = train_test_split(X, y, test_size=0.25)"
   ]
  },
  {
   "cell_type": "code",
   "execution_count": 320,
   "metadata": {
    "collapsed": false
   },
   "outputs": [
    {
     "data": {
      "text/html": [
       "<div>\n",
       "<table border=\"1\" class=\"dataframe\">\n",
       "  <thead>\n",
       "    <tr style=\"text-align: right;\">\n",
       "      <th></th>\n",
       "      <th>model</th>\n",
       "      <th>train_mean</th>\n",
       "      <th>train_std</th>\n",
       "      <th>valid_mean</th>\n",
       "      <th>valid_std</th>\n",
       "    </tr>\n",
       "  </thead>\n",
       "  <tbody>\n",
       "    <tr>\n",
       "      <th>2</th>\n",
       "      <td>EarthOneVsRestClassifier</td>\n",
       "      <td>0.707547</td>\n",
       "      <td>0.047170</td>\n",
       "      <td>0.622642</td>\n",
       "      <td>0.000000</td>\n",
       "    </tr>\n",
       "    <tr>\n",
       "      <th>1</th>\n",
       "      <td>LogisticRegression</td>\n",
       "      <td>0.779874</td>\n",
       "      <td>0.006289</td>\n",
       "      <td>0.603774</td>\n",
       "      <td>0.012579</td>\n",
       "    </tr>\n",
       "    <tr>\n",
       "      <th>3</th>\n",
       "      <td>RandomForestClassifier</td>\n",
       "      <td>0.990566</td>\n",
       "      <td>0.003145</td>\n",
       "      <td>0.566038</td>\n",
       "      <td>0.006289</td>\n",
       "    </tr>\n",
       "    <tr>\n",
       "      <th>0</th>\n",
       "      <td>DummyClassifier</td>\n",
       "      <td>0.355346</td>\n",
       "      <td>0.022013</td>\n",
       "      <td>0.377358</td>\n",
       "      <td>0.018868</td>\n",
       "    </tr>\n",
       "  </tbody>\n",
       "</table>\n",
       "</div>"
      ],
      "text/plain": [
       "                      model  train_mean  train_std  valid_mean  valid_std\n",
       "2  EarthOneVsRestClassifier    0.707547   0.047170    0.622642   0.000000\n",
       "1        LogisticRegression    0.779874   0.006289    0.603774   0.012579\n",
       "3    RandomForestClassifier    0.990566   0.003145    0.566038   0.006289\n",
       "0           DummyClassifier    0.355346   0.022013    0.377358   0.018868"
      ]
     },
     "execution_count": 320,
     "metadata": {},
     "output_type": "execute_result"
    }
   ],
   "source": [
    "models = {\n",
    "   'EarthOneVsRestClassifier': EarthOneVsRestClassifier(max_degree=2, max_terms=10, \n",
    "                  smooth=False, thresh=0, minspan=1, \n",
    "                  check_every=1,\n",
    "                  verbose=0,\n",
    "                  feature_importance_type='rss',\n",
    "                  endspan=1),\n",
    "    'RandomForestClassifier': RandomForestClassifier(max_depth=20, n_estimators=10),\n",
    "    'LogisticRegression': LogisticRegression(),\n",
    "    'DummyClassifier': DummyClassifier(),\n",
    "}\n",
    "result = {}\n",
    "cols = defaultdict(list)\n",
    "for name, m in models.items():\n",
    "    models, train, valid = evaluate(m, X_train, y_train, score=acc)\n",
    "    cols['model'].append(m.__class__.__name__)\n",
    "    cols['train_mean'].append(train.mean())\n",
    "    cols['train_std'].append(train.std())\n",
    "    cols['valid_mean'].append(valid.mean())\n",
    "    cols['valid_std'].append(valid.std())\n",
    "    #cols['test'].append\n",
    "    result[name] = models\n",
    "#earth = models[0]\n",
    "#earth.fit(X, y)\n",
    "results = pd.DataFrame(cols)\n",
    "results = results.sort_values(by='valid_mean', ascending=False)\n",
    "results"
   ]
  },
  {
   "cell_type": "code",
   "execution_count": 323,
   "metadata": {
    "collapsed": false
   },
   "outputs": [
    {
     "name": "stdout",
     "output_type": "stream",
     "text": [
      "             precision    recall  f1-score   support\n",
      "\n",
      "        bad       0.73      0.46      0.56        35\n",
      "       good       0.25      0.14      0.18         7\n",
      "       okay       0.14      0.40      0.21         5\n",
      "   very_bad       0.77      0.86      0.82        59\n",
      "\n",
      "avg / total       0.69      0.66      0.66       106\n",
      "\n"
     ]
    }
   ],
   "source": [
    "print(classification_report(best_model.predict(X_test), y_test))"
   ]
  },
  {
   "cell_type": "code",
   "execution_count": 324,
   "metadata": {
    "collapsed": false
   },
   "outputs": [
    {
     "data": {
      "text/plain": [
       "<matplotlib.axes._subplots.AxesSubplot at 0x7f13b2d424d0>"
      ]
     },
     "execution_count": 324,
     "metadata": {},
     "output_type": "execute_result"
    },
    {
     "data": {
      "image/png": "[encoded data removed]",
      "text/plain": [
       "<matplotlib.figure.Figure at 0x7f13b3527750>"
      ]
     },
     "metadata": {},
     "output_type": "display_data"
    }
   ],
   "source": [
    "sns.countplot(y_df)"
   ]
  },
  {
   "cell_type": "code",
   "execution_count": 322,
   "metadata": {
    "collapsed": false
   },
   "outputs": [
    {
     "data": {
      "text/plain": [
       "0.660377358490566"
      ]
     },
     "execution_count": 322,
     "metadata": {},
     "output_type": "execute_result"
    }
   ],
   "source": [
    "best_model = result[results.iloc[0]['model']][0]\n",
    "acc(best_model, X_test, y_test)"
   ]
  },
  {
   "cell_type": "code",
   "execution_count": 264,
   "metadata": {
    "collapsed": false
   },
   "outputs": [
    {
     "name": "stdout",
     "output_type": "stream",
     "text": [
      "             precision    recall  f1-score   support\n",
      "\n",
      "        bad       0.66      0.56      0.60        34\n",
      "       good       0.30      0.60      0.40         5\n",
      "       okay       0.10      0.08      0.09        13\n",
      "   very_bad       0.79      0.83      0.81        54\n",
      "\n",
      "avg / total       0.64      0.64      0.64       106\n",
      "\n"
     ]
    }
   ],
   "source": [
    "print(classification_report(best_model.predict(X_test), y_test))"
   ]
  }
 ],
 "metadata": {
  "kernelspec": {
   "display_name": "Python 2",
   "language": "python",
   "name": "python2"
  },
  "language_info": {
   "codemirror_mode": {
    "name": "ipython",
    "version": 2
   },
   "file_extension": ".py",
   "mimetype": "text/x-python",
   "name": "python",
   "nbconvert_exporter": "python",
   "pygments_lexer": "ipython2",
   "version": "2.7.12"
  },
  "widgets": {
   "state": {},
   "version": "1.1.2"
  }
 },
 "nbformat": 4,
 "nbformat_minor": 0
}
